{
 "cells": [
  {
   "cell_type": "markdown",
   "id": "be77afc6-1fb5-4006-b674-2fdba26c2414",
   "metadata": {},
   "source": [
    "# Level 3 RAG App to answer questions from several PDF private documents"
   ]
  },
  {
   "cell_type": "markdown",
   "id": "139929b1-b8b4-4141-845b-e8798ba7ca7d",
   "metadata": {},
   "source": [
    "## Goals\n",
    "* Build a RAG app able to answer questions from several PDF documents.\n",
    "* This app will be similar to the SEC Insights pro app we saw from LlamaIndex, but in this case we will use LangChain.\n",
    "* We will use the editor Visual Studio Code to write our code there.\n",
    "* As always, we will load the code in Github where you can download it.\n",
    "* We will practice using several alternative tools like:\n",
    "    * Poetry.\n",
    "    * LangServe as backend server.\n",
    "    * Tailwinds."
   ]
  },
  {
   "cell_type": "markdown",
   "id": "5bf7d656-c179-4d41-81bd-3f7b77cf9b77",
   "metadata": {},
   "source": [
    "## IMPORTANT: Installation with the exact packages we used\n",
    "* When you download a full stack app you need to make sure that both backend and frontend use the original packages in order to avoid potential errors caused by installing more modern versions of these packages.\n",
    "* Since we used poetry to install the original backend packages, you will now use \"poetry install\" to install them.\n",
    "* At this time, our project still does not have frontend, so we will not install the frontend yet.\n",
    "#### Download the code\n",
    "* Download the code from the github repository.\n",
    "#### Backend installation\n",
    "* Since we used both pyenv and poetry to build this project, you will have to use the following approach to install the backend.\n",
    "* In the terminal, make sure you are in the root directory of the project (v1-162-part1). Pay attention: the root directory of the project and the backend directory have an identic name. Do not mistake them, be sure you are in the root directory of the project now.\n",
    "* **Create a virtual environment and use pip install to make sure you install the exact same packages we used**:\n",
    "    * pyenv virtualenv 3.11.4 your-virtual-environment-name\n",
    "    * pyenv activate your-virtual-environment-name\n",
    "    * pip install -r requirements.txt\n",
    "* **Go to the backend directory, create a virtual environment and use poetry install to make sure you install the exact same packages we used**:\n",
    "    * cd v1-162-part1\n",
    "    * poetry install\n",
    "#### Ready to go!\n",
    "* You can now see the code of the app in Visual Studio Code.\n",
    "* Relax and review the following steps. Remember, since you have pre-installed the modules you will not have to re-install them again.\n",
    "* You will be able to run this backend using LangServe Playground as instructed at the end of this notebook."
   ]
  },
  {
   "cell_type": "markdown",
   "id": "244aa6f0-5dfe-4239-ae8e-f1efb91197a4",
   "metadata": {},
   "source": [
    "## For this project, we will use Poetry besides Pip\n",
    "Poetry and pip are both tools used in Python development, but they serve different purposes and have different features. Here's a breakdown of the differences between them:\n",
    "\n",
    "1. **Purpose**:\n",
    "   - **pip**: Pip is the default package manager for Python. It is used primarily for installing and managing Python packages from the Python Package Index (PyPI) or other repositories.\n",
    "   - **Poetry**: Poetry is a dependency management and packaging tool for Python. It helps manage project dependencies, including their versions, and provides tools for packaging and publishing Python projects.\n",
    "\n",
    "2. **Dependency Management**:\n",
    "   - **pip**: Pip installs packages globally or within a virtual environment but doesn't provide a built-in way to manage dependencies for projects directly.\n",
    "   - **Poetry**: Poetry allows you to define project dependencies in a `pyproject.toml` file, including version constraints. It manages dependencies on a per-project basis and allows for more deterministic dependency resolution.\n",
    "\n",
    "3. **Locking Dependencies**:\n",
    "   - **pip**: Pip does not have built-in support for locking dependencies, which can lead to dependency conflicts or inconsistencies between different environments.\n",
    "   - **Poetry**: Poetry generates a `poetry.lock` file that locks dependencies to specific versions, ensuring that the same versions are installed consistently across different environments.\n",
    "\n",
    "4. **Packaging**:\n",
    "   - **pip**: Pip can install packages but does not provide built-in tools for packaging Python projects.\n",
    "   - **Poetry**: Poetry provides commands for packaging Python projects into distributable formats like wheels or source distributions (`sdist`).\n",
    "\n",
    "5. **Virtual Environments**:\n",
    "   - **pip**: Pip relies on virtual environments created using `venv` or `virtualenv` to isolate project dependencies.\n",
    "   - **Poetry**: Poetry automatically creates and manages virtual environments for each project, simplifying the setup process.\n",
    "\n",
    "6. **Ease of Use**:\n",
    "   - **pip**: Pip is a command-line tool with a straightforward interface for installing packages but may require additional tools or scripts for more complex tasks.\n",
    "   - **Poetry**: Poetry aims to provide a more user-friendly and intuitive interface for managing project dependencies and packaging tasks.\n",
    "\n",
    "In summary, while both pip and Poetry are essential tools in Python development, Poetry offers more features and a more comprehensive approach to dependency management and project packaging. It's especially valuable for projects that require strict dependency management and reproducible environments. However, pip remains widely used for installing individual packages and is often integrated into development workflows alongside Poetry."
   ]
  },
  {
   "cell_type": "markdown",
   "id": "6cc89e3f-bce5-4c30-8c33-7a39a049ffb5",
   "metadata": {},
   "source": [
    "## Preparation\n",
    "* create new directory\n",
    "* `pyenv virtualenv 3.11.4 yourvirtualenvname`\n",
    "* `pyenv activate yourvirtualenvname`"
   ]
  },
  {
   "cell_type": "markdown",
   "id": "14f2cb94-80e5-4088-94cf-a82ec3297413",
   "metadata": {},
   "source": [
    "## How to start a new project with Poetry\n",
    "To start a new Python project using Poetry, you can follow these steps:\n",
    "\n",
    "1. **Install Poetry**:\n",
    "   If you haven't already installed Poetry, you can do so by following the installation instructions provided in the Poetry documentation: https://python-poetry.org/docs/#installation.\n",
    "\n",
    "2. **Create a New Project Directory**:\n",
    "   Choose or create a directory where you want to initialize your new Python project.\n",
    "\n",
    "3. **Initialize a New Project**:\n",
    "   Open a terminal or command prompt, navigate to the directory you created, and run the following command to initialize a new Poetry project:\n",
    "\n",
    "   `poetry new <project-name>`\n",
    "\n",
    "   Replace `<project-name>` with the name of your project. This command will create a new directory with the specified project name and initialize a basic Python project structure inside it.\n",
    "\n",
    "4. **Add Dependencies (Optional)**:\n",
    "   If your project requires any dependencies, you can add them to the project using Poetry. Navigate into your project directory and use the following command to add dependencies:\n",
    "\n",
    "   `poetry add <dependency-name>`\n",
    "\n",
    "   Replace `<dependency-name>` with the name of the package you want to add. You can also specify the version and other constraints if needed.\n",
    "\n",
    "5. **Write Your Code**:\n",
    "   Start writing your Python code within the project directory. You can organize your code into modules and packages as needed.\n",
    "\n",
    "6. **Manage Project Settings (Optional)**:\n",
    "   Poetry uses a `pyproject.toml` file to manage project settings and dependencies. You can customize project settings such as Python version, dependencies, and packaging options in this file.\n",
    "\n",
    "7. **Install Dependencies**:\n",
    "   Once you've added dependencies or made changes to the `pyproject.toml` file, you can install the dependencies by running:\n",
    "\n",
    "   `poetry install`\n",
    "\n",
    "   This command will install the project dependencies specified in the `pyproject.toml` file.\n",
    "\n",
    "8. **Run Your Code**:\n",
    "   You can run your Python code as usual using the Python interpreter or any scripts you've written. Poetry will manage the project dependencies and ensure that the correct versions are used.\n",
    "\n",
    "That's it! You've now started a new Python project using Poetry. You can continue developing your project, adding dependencies, and managing project settings using Poetry commands as needed."
   ]
  },
  {
   "cell_type": "markdown",
   "id": "5576982f-3b72-4b5b-bea8-343254d5dc83",
   "metadata": {},
   "source": [
    "## Create a new project with poetry\n",
    "* We will call our project v1-162-part1, you can call it whatever you want.\n",
    "* In terminal:\n",
    "    * `poetry new v1-162-part1`\n",
    "    * `cd v1-162-part1`"
   ]
  },
  {
   "cell_type": "markdown",
   "id": "c7c9f953-56a3-47ea-b407-f34dff14e9e1",
   "metadata": {},
   "source": [
    "## First, we will install langchain-cli\n",
    "* In terminal:\n",
    "    * `pip install langchain-cli`\n",
    "        * This will give us everything we need to start a LangServe project."
   ]
  },
  {
   "cell_type": "markdown",
   "id": "3c320621-208d-4314-b2ea-050d85ecf34a",
   "metadata": {},
   "source": [
    "## Then we will create a new LangServe app.\n",
    "* In terminal:\n",
    "    * `langchain app new .`\n",
    "    * What package would you like to add? (leave blank to skip):\n",
    "        * Leave blank, just press enter\n",
    "            * This will create a new LangServe app."
   ]
  },
  {
   "cell_type": "markdown",
   "id": "ac804a45-5c07-4c66-87c2-b65e0f9fecfe",
   "metadata": {},
   "source": [
    "## See the project structure in your code editor\n",
    "* Several folders and files have been created inside of the project folder. Remember that in our case, the project folder is called v1-162-part1\n",
    "* We will use the free Visual Studio Code editor. You can use this or other editor. Opening the project folder in the editor, now you can see:\n",
    "    * A new folder called app\n",
    "    * A new folder called packages\n",
    "    * A new folder called tests\n",
    "    * A .gitignore file\n",
    "    * And several other files"
   ]
  },
  {
   "cell_type": "markdown",
   "id": "d82b5760-fd6a-4bb0-b69b-14a8542c477d",
   "metadata": {},
   "source": [
    "## Create a new folder for the PDF files\n",
    "* In the root directory of the project, we will create the folder \"pdf-documents\".\n",
    "* There we will store manually the PDF documents we want to use in our RAG app.\n",
    "* Of course, in a production app you will allow the user to enter their own PDF files. For the sake of simplicity, we will do it this way by now.\n",
    "* For this demo, we will include in this folder 3 pdf files with the Wikipedia's biographies of:\n",
    "    * The president John F. Kennedy\n",
    "    * His brother, Robert F. Kennedy\n",
    "    * His father Joseph P. Kennedy "
   ]
  },
  {
   "cell_type": "markdown",
   "id": "d2e11f05-d0ba-4cf1-8f42-8d6f1c5bf3a9",
   "metadata": {},
   "source": [
    "## Create a new folder for the RAG load and process functionality\n",
    "* In the root directory of the project, we will create the folder \"rag-data-loader\"."
   ]
  },
  {
   "cell_type": "markdown",
   "id": "08fcef36-59e7-417d-bb45-5ebfe0a8df34",
   "metadata": {},
   "source": [
    "## Inside this folder, create a file with the LangChain RAG load and process functionality.\n",
    "* We will call this file \"rag_load_and_process.py\"."
   ]
  },
  {
   "cell_type": "markdown",
   "id": "64437674-3657-4e07-9dfe-7b28cb531898",
   "metadata": {},
   "source": [
    "## Add your .env file in the root directory of the project\n",
    "* OpenAI API Key\n",
    "* LangSmith Credentials\n",
    "* Our LangSmith Project Name: RAGforPDFSv2"
   ]
  },
  {
   "cell_type": "markdown",
   "id": "0422a250-6105-47a1-b83b-6462e2a72619",
   "metadata": {},
   "source": [
    "OPENAI_API_KEY=yourkey\n",
    "\n",
    "LANGCHAIN_TRACING_V2=true\n",
    "LANGCHAIN_ENDPOINT=https://api.smith.langchain.com\n",
    "LANGCHAIN_API_KEY=yourkey\n",
    "LANGCHAIN_PROJECT=RAGwithPDFSv2"
   ]
  },
  {
   "cell_type": "markdown",
   "id": "62f64ddd-feec-4e6f-a421-2f15ff63c659",
   "metadata": {},
   "source": [
    "## Update the .gitignore file so your .env file will not be uploaded to github\n",
    "* Add this line in the .gitignore file:\n",
    "    * .env"
   ]
  },
  {
   "cell_type": "markdown",
   "id": "59f8edfd-3d31-42c0-9356-343ba9141da5",
   "metadata": {},
   "source": [
    "## Now we will add the RAG functionality in the rag_load_and_process.py\n",
    "* Remember that you can download the whole code from github. We recommend you review these instructions after you download the code in your code editor.\n",
    "* We will need to add some packages from terminal:\n",
    "    * `poetry add tqdm`\n",
    "    *  The tqdm package is a Python library that provides a fast, extensible progress bar for loops and iterables. \"tqdm\" stands for \"taqaddum\" in Arabic, which means \"progress\" or \"progression\". It's a popular choice among developers for tracking the progress of iterative tasks, such as loops, data processing, or file downloads.\n",
    "    * `poetry add \"unstructured[all-docs]\"`\n",
    "    * We have used the unstructured package before, in the LLM Multimodal Apps section.\n",
    "    * When you do this, you will get an error message in terminal warning that the unstructured package still does not work with the 3.12.1 version of python. In the error message you can read how to solve this problem: go to the pyproject.toml file and edit the line where it says python = \"^3.11\" change it to say:\n",
    "        * python = \">=3.11,<3.12\" \n",
    "    \n",
    "* As you can see, for our RAG functionality we are using some familiar and also some new tools:\n",
    "    * load_dotenv to load the content of our .env file \n",
    "    * [DirectoryLoader](https://python.langchain.com/docs/modules/data_connection/document_loaders/file_directory) and [UnstructuredPDFLoader](https://python.langchain.com/docs/modules/data_connection/document_loaders/pdf) to load the data from the directory where the PDF files are located (remember we called this directory \"pdf-documents\").\n",
    "    * Postgres (with the PGVector extension) as our vector database.\n",
    "    * [SemanticChunker](https://python.langchain.com/docs/modules/data_connection/document_transformers/semantic-chunker) as our splitter.\n",
    "    * OpenAIEmbeddings to create the embeddings.\n",
    "* We will need to download a few packages from terminal:\n",
    "    * `poetry add langchain-experimental`\n",
    "    * `poetry add python-dotenv`\n",
    "    * `poetry add langchain-openai`\n",
    "    * `poetry add langchain-community`\n",
    "    * `poetry add tiktoken`\n",
    "    * `poetry add psycopg`\n",
    "    * `poetry add pgvector`"
   ]
  },
  {
   "cell_type": "markdown",
   "id": "8da8c03e-5e83-47dc-87d9-2fbba0f630a9",
   "metadata": {},
   "source": [
    "## PGVector"
   ]
  },
  {
   "cell_type": "markdown",
   "id": "01cad3ad-5efe-4b5d-91d0-d82c7fa489e8",
   "metadata": {},
   "source": [
    "To initialize PGVector you can opt to install it directly on your operating system by integrating it with PostgreSQL. PGVector is a vector data type and nearest neighbor search operations for PostgreSQL. Here are the general steps for installing PostgreSQL and then adding PGVector, keeping in mind that the details may vary depending on your operating system.\n",
    "\n",
    "### 1. Install PostgreSQL\n",
    "\n",
    "To check if PostgreSQL is installed on your Mac, you can open the Terminal and use the following command:\n",
    "\n",
    "`psql --version`\n",
    "\n",
    "This command attempts to run `psql`, the command-line interface for interacting with PostgreSQL, and asks it to display its version. If PostgreSQL is installed, this command will output the version of `psql` and, implicitly, PostgreSQL. For example, it might show something like `psql (PostgreSQL) 14.11`.\n",
    "\n",
    "If you've installed PostgreSQL via Homebrew and confirmed its version, you do need to start the PostgreSQL service if it's not already running. You can start it with the command:\n",
    "\n",
    "`brew services start postgresql`\n",
    "\n",
    "This command will initiate the PostgreSQL server, making it ready to accept connections on the default port (usually 5432). Homebrew services will also ensure that PostgreSQL starts automatically when your computer boots, so you don't need to manually start it every time.\n",
    "\n",
    "To check if PostgreSQL is running after you've started it, you can use:\n",
    "\n",
    "`brew services list`\n",
    "\n",
    "Look for `postgresql` in the output list, and next to it, you should see \"started\" if the service is running properly.\n",
    "\n",
    "If PostgreSQL is not installed, you'll likely receive an error message indicating that psql could not be found. This indicates that PostgreSQL needs to be installed on your system.\n",
    "\n",
    "How to install PostgreSQL varies by operating system, but here's how to do it on Debian-based systems (like Ubuntu) and on macOS.\n",
    "\n",
    "#### On Ubuntu/Debian:\n",
    "\n",
    "```bash\n",
    "sudo apt update\n",
    "sudo apt install postgresql postgresql-contrib\n",
    "```\n",
    "\n",
    "#### On macOS:\n",
    "\n",
    "You can use Homebrew to install PostgreSQL:\n",
    "\n",
    "`brew install postgresql`\n",
    "\n",
    "After installing, start the PostgreSQL service:\n",
    "\n",
    "- On Linux (Debian/Ubuntu):\n",
    "\n",
    "`sudo service postgresql start`\n",
    "\n",
    "- On macOS:\n",
    "\n",
    "`brew services start postgresql`\n",
    "\n",
    "### 2. Verify PostgreSQL Installation\n",
    "\n",
    "Verify that PostgreSQL is correctly installed and running:\n",
    "\n",
    "`psql -V`\n",
    "\n",
    "### 3. Install PGVector\n",
    "\n",
    "Now, you need to install PGVector on your PostgreSQL instance. This can be done by installing the PGVector extension in your PostgreSQL database.\n",
    "\n",
    "To install PGVector in your Mac it is very easy using Homebrew. In terminal, run:\n",
    "\n",
    "`brew install pgvector` \n",
    "\n",
    "For Widows and other systems check the [installation guide for PGVector](https://github.com/pgvector/pgvector). Pay attention to this [installation notes](https://github.com/pgvector/pgvector#installation-notes---linux-and-mac)."
   ]
  },
  {
   "cell_type": "markdown",
   "id": "87d324af-1bce-4a7b-96f0-ec040a0e09cc",
   "metadata": {},
   "source": [
    "## Activate the extension in your PostgreSQL database\n",
    "To interact with your PostgreSQL database, you can now do so by using the `psql` command-line interface or any other PostgreSQL-compatible client of your choice. To connect to your default database with `psql`, you can simply open a Terminal window and type:\n",
    "\n",
    "`psql -U postgres`\n",
    "\n",
    "\"postgres\" is the default superuser in postgres.\n",
    "\n",
    "To create the new database, enter:\n",
    "\n",
    "`CREATE DATABASE database164;`\n",
    "\n",
    "Then enter `\\q` to exit psql.\n",
    "\n",
    "Finally, you need to activate the pgvector extension within your database. Access your database with psql and execute the command to create the extension.\n",
    "\n",
    "`psql -d database164 -c \"CREATE EXTENSION vector;\"`\n",
    "\n",
    "If you ran the command `psql -d [database164 -c \"CREATE EXTENSION vector;\"` and the output was `CREATE EXTENSION`, it means the installation of the `vector` extension (PGVector) was successful in your PostgreSQL database named `database164`. This output confirms that the extension has been added to the database, enabling you to use the functionalities provided by PGVector.\n",
    "\n",
    "With PGVector now installed, you can begin to leverage its features for storing and performing operations on vectors directly within your PostgreSQL database."
   ]
  },
  {
   "cell_type": "markdown",
   "id": "4f888fd1-f720-4c4d-a9ac-ed18dae7cd8f",
   "metadata": {},
   "source": [
    "## Load and process data\n",
    "* Execute the rag_load_and_process.py file to load the data from the pdf documents, convert the data to embeddings and store the embeddings in the vector database.\n",
    "* In terminal:\n",
    "    * `cd rag-data-loader`\n",
    "    * `python3 rag_load_and_process.py`"
   ]
  },
  {
   "cell_type": "markdown",
   "id": "a44fc644-98d1-4241-8b35-8c7500df865c",
   "metadata": {},
   "source": [
    "#### Note: flattening docs (line 27 of rag_load_and_process.py)\n",
    "\n",
    "`flattened_docs = [doc[0] for doc in docs if doc]`\n",
    "\n",
    "This line of code uses a list comprehension to create a new list, `flattened_docs`, from the original list `docs`. This particular list comprehension serves to flatten a list of lists by one level under the assumption that each inner list contains at least one `Document` object. Let's break it down:\n",
    "\n",
    "```python\n",
    "flattened_docs = [doc[0] for doc in docs if doc]\n",
    "```\n",
    "\n",
    "- **`for doc in docs`**: This iterates over each element in the `docs` list. In this case, each `doc` is actually a list of `Document` objects (or possibly a single `Document` object wrapped in a list).\n",
    "\n",
    "- **`if doc`**: This checks if the current item (`doc`) is truthy. In Python, empty lists are considered \"falsy,\" meaning they evaluate to `False` in a boolean context. Non-empty lists are \"truthy,\" meaning they evaluate to `True`. This part of the comprehension ensures that only non-empty lists are processed, effectively skipping any empty lists that might be in `docs`.\n",
    "\n",
    "- **`doc[0]`**: For each non-empty list (`doc`), this accesses the first element (`doc[0]`). The assumption here is that the first element is a `Document` object you're interested in. This is the \"flattening\" part of the operation, where you take the first element out of each list and use it to build the new list, `flattened_docs`.\n",
    "\n",
    "Put together, this line creates a new list that consists of the first `Document` object from each non-empty list in `docs`. It effectively removes one layer of list nesting, transforming a structure like `[[Document1], [Document2], ...]` into `[Document1, Document2, ...]`.\n",
    "\n",
    "This approach is specifically tailored to this case, where each list in `docs` is expected to contain one `Document` object. If some lists might contain more than one `Document` object and you want to include all of them, you would need a different approach to flatten the list fully.\n",
    "\n",
    "* If you change line 28 with:\n",
    "    * `chunks = text_splitter.split_documents(docs)`\n",
    "    * and you try to run the file from terminal, looking at the error message you will see why we needed to flatten docs."
   ]
  },
  {
   "cell_type": "markdown",
   "id": "dcc19764-c8f1-4a86-8212-2d6085cc960a",
   "metadata": {},
   "source": [
    "## Create the RAG chain file\n",
    "* In the app folder, create a new file. We will call it rag_chain.py file\n"
   ]
  },
  {
   "cell_type": "markdown",
   "id": "bbf7ebd9-f887-4055-aeca-db988229bd02",
   "metadata": {},
   "source": [
    "#### Note: TypeDict\n",
    "`TypedDict` allows for the creation of dictionaries with keys that are tied to specific types. This feature was introduced in Python 3.8 as a part of the `typing` module, which provides support for type hints.\n",
    "\n",
    "**What is `TypedDict`?**\n",
    "\n",
    "`TypedDict` enables precise type hints for dictionaries where you know the exact structure in advance. It's particularly useful when you want to ensure that dictionaries conform to a specific schema, with specific keys and value types. This can be beneficial for code readability, type checking, and IDE assistance (like autocompletion and type checks).\n",
    "\n",
    "Before `TypedDict`, type hints for dictionaries were limited to specifying the types of keys and values in a general sense (e.g., `dict[str, int]` indicates a dictionary with string keys and integer values, but it doesn't specify which keys are expected or that different keys might have values of different types).\n",
    "\n",
    "**How to Use `TypedDict`**\n",
    "\n",
    "Here is an example of how to define and use a `TypedDict`:\n",
    "\n",
    "```python\n",
    "from typing import TypedDict\n",
    "\n",
    "class Movie(TypedDict):\n",
    "    name: str\n",
    "    year: int\n",
    "\n",
    "# This dictionary conforms to the Movie TypedDict specification\n",
    "movie: Movie = {'name': 'Blade Runner', 'year': 1982}\n",
    "\n",
    "# This would raise a type error during type checking because 'years' is not a valid key\n",
    "# and the type checker expects 'year' to be an int, not a list.\n",
    "wrong_movie: Movie = {'name': 'Blade Runner', 'years': [1982]}  # Type checking error\n",
    "```\n",
    "\n",
    "In this example, `Movie` is a `TypedDict` specifying that dictionaries of this type should have a `name` key with a value of type `str` and a `year` key with a value of type `int`. Using `TypedDict` like this makes the code more self-documenting and allows type checkers like `mypy` to catch mistakes where the dictionary structure deviates from the defined schema.\n",
    "\n",
    "**Benefits of `TypedDict`**\n",
    "\n",
    "- **Type Safety**: Provides a way to enforce that dictionaries contain specific keys with values of specific types.\n",
    "- **Code Readability and Maintenance**: Makes the intended structure of dictionaries clear, which can be especially helpful in large codebases or when working with complex data.\n",
    "- **Tooling Support**: Improves support for autocompletion and type checking in IDEs, making development faster and helping catch type-related errors early.\n",
    "\n",
    "**Limitations**\n",
    "\n",
    "- **Runtime Behavior**: `TypedDict` does not change the runtime behavior of dictionaries. Errors related to missing keys or incorrect types will not be caught at runtime unless you use additional runtime checks.\n",
    "- **Python Version**: `TypedDict` requires Python 3.8 or later. For older versions of Python, you would need to use comments or other forms of type hints that are supported by external type checkers like `mypy`.\n",
    "\n",
    "`TypedDict` is part of Python's gradual typing system, which allows developers to opt into type hints as needed, combining the flexibility of Python's dynamic typing with the benefits of static type checks."
   ]
  },
  {
   "cell_type": "markdown",
   "id": "ad64f116-569a-4445-99e5-91275a537d9f",
   "metadata": {},
   "source": [
    "#### Note: itemgetter\n",
    "`itemgetter` is a utility function from Python's `operator` module that constructs a callable that fetches an item from its operand using the operand’s `__getitem__()` method (which corresponds to the square-bracket `[]` access syntax). It is commonly used for retrieving items from collections (like dictionaries, lists, or tuples) and is especially useful when you need to sort or organize data based on the value of specific items.\n",
    "\n",
    "**Basic Usage**\n",
    "\n",
    "Here's a basic example of how `itemgetter` works:\n",
    "\n",
    "```python\n",
    "from operator import itemgetter\n",
    "\n",
    "# For a list of tuples\n",
    "data = [(2, 'Z'), (1, 'A'), (4, 'D'), (3, 'B')]\n",
    "# Get the second item from each tuple\n",
    "getter = itemgetter(1)\n",
    "for record in data:\n",
    "    print(getter(record))  # Prints the second item of each tuple\n",
    "```\n",
    "\n",
    "**Sorting with `itemgetter`**\n",
    "\n",
    "One common use case for `itemgetter` is in sorting lists of dictionaries or tuples by a specific element. It is used as a key function in sorting methods like `list.sort()` or `sorted()`:\n",
    "\n",
    "```python\n",
    "from operator import itemgetter\n",
    "\n",
    "# Sorting a list of dictionaries by a specific key\n",
    "records = [{'name': 'John', 'score': 90}, {'name': 'Doe', 'score': 80}, {'name': 'Jane', 'score': 95}]\n",
    "# Sort by 'score'\n",
    "sorted_records = sorted(records, key=itemgetter('score'))\n",
    "print(sorted_records)\n",
    "\n",
    "# Sorting a list of tuples\n",
    "data = [(2, 'Z'), (1, 'A'), (4, 'D'), (3, 'B')]\n",
    "# Sort by the first item\n",
    "sorted_data = sorted(data, key=itemgetter(0))\n",
    "print(sorted_data)\n",
    "```\n",
    "\n",
    "**`itemgetter` with Multiple Keys**\n",
    "\n",
    "`itemgetter` can be used with multiple indices or keys. When called with multiple arguments, it creates a callable that returns a tuple with all specified items, which can be useful for sorting by multiple criteria:\n",
    "\n",
    "```python\n",
    "from operator import itemgetter\n",
    "\n",
    "# Sorting by multiple criteria\n",
    "data = [('John', 'Doe', 90), ('John', 'Smith', 80), ('Jane', 'Doe', 95)]\n",
    "# Sort by the first item, then by the third\n",
    "sorted_data = sorted(data, key=itemgetter(0, 2))\n",
    "print(sorted_data)\n",
    "```\n",
    "\n",
    "**Comparison with Lambda Functions**\n",
    "\n",
    "`itemgetter` offers a more efficient and concise alternative to lambda functions for similar purposes:\n",
    "\n",
    "```python\n",
    "# Using itemgetter\n",
    "sorted_records = sorted(records, key=itemgetter('score'))\n",
    "\n",
    "# Equivalent using lambda\n",
    "sorted_records = sorted(records, key=lambda x: x['score'])\n",
    "```\n",
    "\n",
    "While both approaches are valid, `itemgetter` can be more readable and performant, especially for simple key extractions.\n",
    "\n",
    "In summary, `itemgetter` is a versatile tool in Python for accessing items from objects and is particularly useful in sorting and data selection scenarios."
   ]
  },
  {
   "cell_type": "markdown",
   "id": "80688fd8-2300-48b7-b607-2caadf6a4288",
   "metadata": {},
   "source": [
    "## Edit app/server.py\n",
    "* add_routes(app, final_chain, path=\"/rag\")"
   ]
  },
  {
   "cell_type": "markdown",
   "id": "8de67bd6-c374-4bbc-a98a-8bd78f18e58a",
   "metadata": {},
   "source": [
    "## Install FastAPI\n",
    "In terminal:\n",
    "* `cd..` to go back to the root directory of the app\n",
    "* `pip install fastapi`\n",
    "* `pip install \"uvicorn[standard]\"`"
   ]
  },
  {
   "cell_type": "markdown",
   "id": "d6df8511-65c8-46ad-9163-1c4b0cb9b38b",
   "metadata": {},
   "source": [
    "## Start FastAPI\n",
    "In terminal:\n",
    "* `uvicorn app.server:app --reload`"
   ]
  },
  {
   "cell_type": "markdown",
   "id": "7cc8bf21-edbd-4921-8eb5-691c3eb065e9",
   "metadata": {},
   "source": [
    "## Check the app in the LangServe Playground\n",
    "See this in your browser:\n",
    "* [http://127.0.0.1:8000/rag/playground/](http://127.0.0.1:8000/rag/playground/)\n",
    "\n",
    "Use CTRL-C in the terminal to stop it."
   ]
  },
  {
   "cell_type": "markdown",
   "id": "1a14d33b-84b9-4548-8474-bd910db94084",
   "metadata": {},
   "source": [
    "## Go to LangSmith to track the operations\n",
    "* smith.langchain.com"
   ]
  },
  {
   "cell_type": "markdown",
   "id": "87f91209-708d-4f55-b20f-6057709db9cf",
   "metadata": {},
   "source": [
    "## Note\n",
    "* Instead of providing just the final code of the project, we are going to provide the code of each development stage, so you can see how the code evolves.\n",
    "* This is also very good to identify possible bugs or necessary updates in the code. The code works fine when we are recoding this, but as you now Generative AI is evolving very fast and at any moment there can emerge new ways of doing things."
   ]
  },
  {
   "cell_type": "code",
   "execution_count": null,
   "id": "d5272f80-76ed-47b4-9ad2-a18e6443798b",
   "metadata": {},
   "outputs": [],
   "source": []
  }
 ],
 "metadata": {
  "kernelspec": {
   "display_name": "Python 3 (ipykernel)",
   "language": "python",
   "name": "python3"
  },
  "language_info": {
   "codemirror_mode": {
    "name": "ipython",
    "version": 3
   },
   "file_extension": ".py",
   "mimetype": "text/x-python",
   "name": "python",
   "nbconvert_exporter": "python",
   "pygments_lexer": "ipython3",
   "version": "3.11.4"
  }
 },
 "nbformat": 4,
 "nbformat_minor": 5
}
